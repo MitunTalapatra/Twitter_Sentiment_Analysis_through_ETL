{
 "cells": [
  {
   "cell_type": "code",
   "execution_count": 1,
   "id": "afd38934-b6b8-4403-97aa-c4fdcf42fa6c",
   "metadata": {},
   "outputs": [],
   "source": [
    "import pymongo\n",
    "import logging\n",
    "from vaderSentiment.vaderSentiment import SentimentIntensityAnalyzer\n",
    "from sqlalchemy import create_engine\n",
    "import time\n",
    "import re\n",
    "\n",
    "def sentiment_score(text):\n",
    "    analyzer = SentimentIntensityAnalyzer()\n",
    "    return analyzer.polarity_scores(text)['compound']\n",
    "\n",
    "\n",
    "mentions_regex= '@[A-Za-z0-9]+'\n",
    "url_regex='https?:\\/\\/\\S+' #this will not catch all possible URLs\n",
    "hashtag_regex= '#'\n",
    "rt_regex= 'RT\\s'\n",
    "\n",
    "def clean_tweets(tweet):\n",
    "    tweet = re.sub(mentions_regex, '', tweet)  #removes @mentions\n",
    "    tweet = re.sub(hashtag_regex, '', tweet) #removes hashtag symbol\n",
    "    tweet = re.sub(rt_regex, '', tweet) #removes RT to announce retweet\n",
    "    tweet = re.sub(url_regex, '', tweet) #removes most URLs\n",
    "    \n",
    "    return tweet\n",
    "\n",
    "# Extraction\n",
    "client = pymongo.MongoClient(host=\"mongodb\", port=27017)\n",
    "time.sleep(5)\n",
    "db = client.twitter\n",
    "our_tweets = db.tweets.find()"
   ]
  },
  {
   "cell_type": "code",
   "execution_count": null,
   "id": "98857c47-90a5-41d6-8fa3-bed3aa2dee4a",
   "metadata": {},
   "outputs": [],
   "source": [
    "texts = [clean_tweets(doc['text']) for doc in our_tweets]\n",
    "scores = [sentiment_score(text) for text in texts]\n",
    "dictx = {'texts': texts, 'scores': scores}\n",
    "print(dictx)"
   ]
  }
 ],
 "metadata": {
  "kernelspec": {
   "display_name": "Python 3 (ipykernel)",
   "language": "python",
   "name": "python3"
  },
  "language_info": {
   "codemirror_mode": {
    "name": "ipython",
    "version": 3
   },
   "file_extension": ".py",
   "mimetype": "text/x-python",
   "name": "python",
   "nbconvert_exporter": "python",
   "pygments_lexer": "ipython3",
   "version": "3.9.7"
  }
 },
 "nbformat": 4,
 "nbformat_minor": 5
}
